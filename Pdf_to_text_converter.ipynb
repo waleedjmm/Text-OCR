{
 "cells": [
  {
   "cell_type": "code",
   "execution_count": 60,
   "id": "f0ceee80",
   "metadata": {},
   "outputs": [
    {
     "name": "stdout",
     "output_type": "stream",
     "text": [
      "Number of words in the file : Counter({'-': 22, 'the': 12, 'you': 10, 'to': 9, 'too': 9, 'of': 9, 'is': 8, 'sales': 7, 'be': 6, 't': 6, 'a': 5, 'rate': 5, 'stock': 4, 'ratio': 4, 'have': 4, 'that': 4, 'Sr.': 4, 'No': 4, 'C': 4, 'ustomer': 4, 'ID': 4, 'Item': 4, 'Transaction': 4, 'Date': 4, '(D/M/Y)': 4, 'S': 4, 'Pr': 4, 'ice': 4, 'Cost': 4, 'To': 4, 'calculated': 4, 'it': 3, 'your': 3, 'inventory': 3, 'number': 3, 'ore': 3, 'Number': 3, 'In': 3, 'Q': 3, 'n': 3, 'ty': 3, 'Ou': 3, 'Qnty': 3, 'Sales': 3, 'Ratio': 3, 'Lost': 3, 'sold': 3, 'or': 3, 'The': 2, 'inventory,': 2, 'are': 2, 'little': 2, 'may': 2, 'which': 2, 'for': 2, 'Stock': 2, 'This': 2, 'lost': 2, 'days': 2, 'specific': 2, 'product': 2, 'out': 2, 'It': 2, 'on': 2, 'Sell': 2, 'through': 2, 'Rate': 2, 'units': 2, 'hand': 2, 'When': 2, 'priced': 2, 'l': 2, 'Cannibalization': 2, 'products': 2, 'What': 1, 'means:': 1, 'will': 1, 'help': 1, 'keep': 1, 'at': 1, 'optimum': 1, 'levels.': 1, 'If': 1, 'much': 1, 'tying': 1, 'up': 1, 'capital': 1, 'could': 1, 'better': 1, 'spent': 1, 'elsewhere.': 1, 'Conve': 1, 'rsely,': 1, 'if': 1, 'stock,': 1, 'run': 1, 'out,': 1, 'one': 1, 'thing': 1, 'not': 1, 'do': 1, 'retailers.': 1, 'measure': 1, 'amount': 1, 'in': 1, 'storage': 1, 'versus': 1, 'sales.': 1, 'broad': 1, 'calculation': 1, 'can': 1, 'used': 1, 'adjust': 1, 'maintain': 1, 'high': 1, 'margins.': 1, '17.': 1, 'A': 1, 'compared': 1, 'expected': 1, 'product.': 1, 'indicates': 1, 'when': 1, 'company': 1, 'runs': 1, 'lean': 1, 'its': 1, 'stock.': 1, 'Use': 1, 'this': 1, 'formul': 1, 'calculate': 1, 'ratio:': 1, '=': 1, '(#': 1, '/': 1, '365)': 1, 'x': 1, '100': 1, '18.': 1, 'Definition:': 1, 'percen': 1, 'tage': 1, 'during': 1, 'time': 1, 'period.': 1, 'Formula:': 1, 'Units': 1, '÷': 1, '(Units': 1, '+': 1, 'On': 1, 'inventory)': 1, 'tells': 1, 'percentage': 1, 'available': 1, 'actually': 1, 'sold.': 1, 'low,': 1, 'means': 1, 'many': 1, '(you': 1, 'overstocked),': 1, 'high.': 1, 'high,': 1, 'mean': 1, 'low.': 1, 'e': 1, 'Through': 1, '19.': 1, 'rate:': 1, 'shows': 1, 'new': 1, 'services': 1, 'hurting': 1, 'current': 1, 'and': 1, 'services.': 1, 'very': 1, 'important': 1, 'metric': 1, 'follow.': 1, 'Quantity': 1})\n"
     ]
    }
   ],
   "source": [
    "from collections import Counter\n",
    "def word_count(fname):\n",
    "        with open(fname) as f:\n",
    "                return Counter(f.read().split())\n",
    "\n",
    "print(\"Number of words in the file :\",word_count(\"test2.txt\"))"
   ]
  },
  {
   "cell_type": "code",
   "execution_count": 78,
   "id": "0d647363",
   "metadata": {},
   "outputs": [
    {
     "name": "stdout",
     "output_type": "stream",
     "text": [
      "What file would you like to open? Med.txt\n",
      "What words do you want to find? healthcare\n",
      "Searching...\n",
      "\n",
      "Frequency of word usage within Med.txt:\n",
      "   healthcare           / 22 occurrences\n"
     ]
    }
   ],
   "source": [
    "file_name = input(\"What file would you like to open? \")\n",
    "with open(file_name, \"r\") as f:\n",
    "    words = f.read().split()\n",
    "\n",
    "search_words = input(\"What words do you want to find? \").split(',')\n",
    "search_words = [word.strip().lower() for word in search_words]\n",
    "search_counts = dict.fromkeys(search_words, 0)\n",
    "\n",
    "print ('Searching...')\n",
    "for word in words:\n",
    "    word = word.rstrip(\",.\").lower()\n",
    "    if word in search_counts:\n",
    "        search_counts[word] += 1\n",
    "\n",
    "print ('\\nFrequency of word usage within', file_name + \":\")\n",
    "for word in search_words:\n",
    "    print(\"   {:<20s} / {} occurrences\".format(word, search_counts[word]))"
   ]
  },
  {
   "cell_type": "code",
   "execution_count": null,
   "id": "42076569",
   "metadata": {},
   "outputs": [],
   "source": []
  }
 ],
 "metadata": {
  "kernelspec": {
   "display_name": "Python 3 (ipykernel)",
   "language": "python",
   "name": "python3"
  },
  "language_info": {
   "codemirror_mode": {
    "name": "ipython",
    "version": 3
   },
   "file_extension": ".py",
   "mimetype": "text/x-python",
   "name": "python",
   "nbconvert_exporter": "python",
   "pygments_lexer": "ipython3",
   "version": "3.9.6"
  }
 },
 "nbformat": 4,
 "nbformat_minor": 5
}
