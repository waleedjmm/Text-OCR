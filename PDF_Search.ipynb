{
 "cells": [
  {
   "cell_type": "code",
   "execution_count": 3,
   "id": "21b5c9cc",
   "metadata": {},
   "outputs": [
    {
     "name": "stdout",
     "output_type": "stream",
     "text": [
      "The word healthcare was found 26 times in <_io.BufferedReader name='D:/Random_PDFs/MedCity_AIeBook_MCM146_R1.pdf'>\n"
     ]
    }
   ],
   "source": [
    "import PyPDF2\n",
    "pdfFileObj = open('D:/Random_PDFs/MedCity_AIeBook_MCM146_R1.pdf', 'rb')\n",
    "pdfReader = PyPDF2.PdfFileReader(pdfFileObj, strict=False)\n",
    "\n",
    "search_word = \"healthcare\"\n",
    "search_word_count = 0\n",
    "\n",
    "for pageNum in range(0, pdfReader.numPages):\n",
    "    pageObj = pdfReader.getPage(pageNum)\n",
    "    text = pageObj.extractText().encode('utf-8')\n",
    "    search_text = text.lower().split()\n",
    "    for word in search_text:\n",
    "        if search_word in word.decode(\"utf-8\"):\n",
    "            search_word_count += 1\n",
    "        \n",
    "print(\"The word {} was found {} times in {}\".format(search_word, search_word_count,pdfFileObj))"
   ]
  },
  {
   "cell_type": "code",
   "execution_count": null,
   "id": "e82200a0",
   "metadata": {},
   "outputs": [],
   "source": []
  },
  {
   "cell_type": "code",
   "execution_count": null,
   "id": "7e1fdeb4",
   "metadata": {},
   "outputs": [],
   "source": []
  }
 ],
 "metadata": {
  "kernelspec": {
   "display_name": "Python 3 (ipykernel)",
   "language": "python",
   "name": "python3"
  },
  "language_info": {
   "codemirror_mode": {
    "name": "ipython",
    "version": 3
   },
   "file_extension": ".py",
   "mimetype": "text/x-python",
   "name": "python",
   "nbconvert_exporter": "python",
   "pygments_lexer": "ipython3",
   "version": "3.9.6"
  }
 },
 "nbformat": 4,
 "nbformat_minor": 5
}
